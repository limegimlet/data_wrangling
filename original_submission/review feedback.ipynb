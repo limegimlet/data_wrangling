{
 "cells": [
  {
   "cell_type": "code",
   "execution_count": null,
   "metadata": {},
   "outputs": [],
   "source": []
  },
  {
   "cell_type": "markdown",
   "metadata": {},
   "source": [
    "Student response also includes the MongoDB queries used to obtain the statistics.\n",
    "\n",
    "ADDITIONALLY (OPTIONAL)\n",
    "Pipelines\n",
    "It is recommended that coders create pipelines prior to database submission/query. This added step allows coders to review pipelines for errors that could potentially harm the database. Here is an example.\n",
    "Single Command Method"
   ]
  },
  {
   "cell_type": "code",
   "execution_count": null,
   "metadata": {},
   "outputs": [],
   "source": [
    "db.locations.aggregate([{\"$group\": {\"_id\": \"$created.user\", \"count\":\n",
    "{\"$sum\":1}}}, {\"$sort\": {\"count\": -1}}, {\"$limit\": 5}])\n",
    "Safer Method\n",
    "\n",
    "pipeline = ([{\"$group\": {\"_id\": \"$created.user\", \"count\":\n",
    "{\"$sum\":1}}}, \n",
    "{\"$sort\": {\"count\": -1}}, \n",
    "{\"$limit\": 5}]\n",
    "db.locations.aggregate(pipeline)"
   ]
  },
  {
   "cell_type": "markdown",
   "metadata": {},
   "source": [
    "This is just an example. This is particularly important when one is using db.update() or db.insert() to make database changes. Just something to think about and is optional."
   ]
  }
 ],
 "metadata": {
  "kernelspec": {
   "display_name": "Python [conda env:DAND]",
   "language": "python",
   "name": "conda-env-DAND-py"
  },
  "language_info": {
   "codemirror_mode": {
    "name": "ipython",
    "version": 2
   },
   "file_extension": ".py",
   "mimetype": "text/x-python",
   "name": "python",
   "nbconvert_exporter": "python",
   "pygments_lexer": "ipython2",
   "version": "2.7.12"
  },
  "toc": {
   "base_numbering": 1,
   "nav_menu": {},
   "number_sections": true,
   "sideBar": true,
   "skip_h1_title": false,
   "title_cell": "",
   "title_sidebar": "Contents",
   "toc_cell": false,
   "toc_position": {},
   "toc_section_display": true,
   "toc_window_display": false
  }
 },
 "nbformat": 4,
 "nbformat_minor": 2
}
