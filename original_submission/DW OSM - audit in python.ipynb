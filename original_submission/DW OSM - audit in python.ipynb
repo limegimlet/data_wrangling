{
 "cells": [
  {
   "cell_type": "code",
   "execution_count": null,
   "metadata": {
    "collapsed": true
   },
   "outputs": [],
   "source": [
    "import xml.etree.cElementTree as ET\n",
    "import pprint\n",
    "from collections import defaultdict\n",
    "import re\n",
    "\n",
    "\n",
    "f = 'osm_paris_central_sm.xml'\n",
    "path = 'Documents/ds_nanodegree/data_wrangling/'\n",
    "filename = path + f"
   ]
  },
  {
   "cell_type": "code",
   "execution_count": null,
   "metadata": {
    "collapsed": false
   },
   "outputs": [],
   "source": [
    "#audit data: how many diff types of amenities?\n",
    "def list_amenities(filename):\n",
    "    amenities = 0\n",
    "    a = defaultdict(int)\n",
    "    for event, elem in ET.iterparse(filename):\n",
    "        if elem.tag == \"tag\":  \n",
    "            k,v = elem.attrib[\"k\"],elem.attrib[\"v\"]\n",
    "            if k == \"amenity\":      \n",
    "                a[v] += 1\n",
    "                amenities += 1\n",
    "            else:\n",
    "                pass\n",
    "    return a, amenities\n",
    "    \n",
    "\n",
    "l,total = list_amenities(filename)\n",
    "\n",
    "print \"Total # of amenities: \" + str(total)\n",
    "print \"Types of amenities: \" + str(len(l))\n",
    "                                           \n",
    "                                           \n",
    "#print a sorted list of amenity types & counts\n",
    "import operator\n",
    "sorted_l = sorted(l.items(), key=operator.itemgetter(1), reverse = True)\n",
    "\n",
    "print \"Count of amenities, in descending order:\"                                        \n",
    "pprint.pprint(sorted_l)\n",
    "\n"
   ]
  },
  {
   "cell_type": "code",
   "execution_count": null,
   "metadata": {
    "collapsed": false
   },
   "outputs": [],
   "source": [
    "#check for problematic tags\n",
    "lower = re.compile(r'^([a-z]|_)*$')\n",
    "lower_colon = re.compile(r'^([a-z]|_)*:([a-z]|_)*$')\n",
    "problemchars = re.compile(r'[=\\+/&<>;\\'\"\\?%#$@\\,\\. \\t\\r\\n]')\n",
    "\n",
    "\n",
    "def key_type(element, keys):\n",
    "    if element.tag == \"tag\":\n",
    "        for name, value in element.items():\n",
    "            if name==\"k\":\n",
    "                l = lower.search(value)\n",
    "                lc = lower_colon.search(value)\n",
    "                pc = problemchars.search(value)\n",
    "                if l:\n",
    "                    keys[\"lower\"]+=1\n",
    "                elif lc:\n",
    "                    keys[\"lower_colon\"]+=1\n",
    "                elif pc:\n",
    "                    keys[\"problemchars\"]+=1\n",
    "                else:\n",
    "                    keys[\"other\"]+=1\n",
    "              \n",
    "            else:\n",
    "                pass\n",
    "    else:      \n",
    "        pass\n",
    "    \n",
    "    return keys\n",
    "\n",
    "def process_map(filename):\n",
    "    keys = {\"lower\": 0, \"lower_colon\": 0, \"problemchars\": 0, \"other\": 0}\n",
    "    for _, element in ET.iterparse(filename):\n",
    "        keys = key_type(element, keys)\n",
    "\n",
    "    return keys\n",
    "\n",
    "process_map(filename)"
   ]
  },
  {
   "cell_type": "code",
   "execution_count": null,
   "metadata": {
    "collapsed": false
   },
   "outputs": [],
   "source": [
    "#audit - how many unique users?\n",
    "def get_user(element):\n",
    "    return\n",
    "\n",
    "\n",
    "def process_map(filename):\n",
    "    sources = defaultdict(int)\n",
    "    tot_src = 0\n",
    "    for _, element in ET.iterparse(filename):\n",
    "        if element.tag == \"node\":\n",
    "            for child in element:\n",
    "                k,v = child.attrib[\"k\"],child.attrib[\"v\"]\n",
    "                if k == \"source\":\n",
    "                    sources[v] += 1\n",
    "                    tot_src += 1\n",
    "                else:\n",
    "                    pass\n",
    "        #users = list(users)\n",
    "    return sources,tot_src\n",
    "\n",
    "import operator\n",
    "#sorted_users = sorted(users.items(), key=operator.itemgetter(1), reverse = True)\n",
    "\n",
    "sources,count = process_map(filename)\n",
    "\n",
    "print count\n",
    "\n",
    "sorted_sources = sorted(sources.items(), key=operator.itemgetter(1), reverse = True)\n",
    "pprint.pprint( sorted_sources[:10])"
   ]
  },
  {
   "cell_type": "code",
   "execution_count": null,
   "metadata": {
    "collapsed": true
   },
   "outputs": [],
   "source": []
  },
  {
   "cell_type": "code",
   "execution_count": null,
   "metadata": {
    "collapsed": true
   },
   "outputs": [],
   "source": []
  }
 ],
 "metadata": {
  "kernelspec": {
   "display_name": "Python 2",
   "language": "python",
   "name": "python2"
  },
  "language_info": {
   "codemirror_mode": {
    "name": "ipython",
    "version": 2
   },
   "file_extension": ".py",
   "mimetype": "text/x-python",
   "name": "python",
   "nbconvert_exporter": "python",
   "pygments_lexer": "ipython2",
   "version": "2.7.10"
  }
 },
 "nbformat": 4,
 "nbformat_minor": 0
}
