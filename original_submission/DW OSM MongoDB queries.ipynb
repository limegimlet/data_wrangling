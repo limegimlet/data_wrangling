{
 "cells": [
  {
   "cell_type": "code",
   "execution_count": 1,
   "metadata": {},
   "outputs": [],
   "source": [
    "def get_db(db_name):\n",
    "    # For local use\n",
    "    from pymongo import MongoClient\n",
    "    client = MongoClient('localhost:27017')\n",
    "    db = client[db_name]\n",
    "    return db\n"
   ]
  },
  {
   "cell_type": "code",
   "execution_count": 3,
   "metadata": {},
   "outputs": [],
   "source": [
    "db = get_db('paris')"
   ]
  },
  {
   "cell_type": "code",
   "execution_count": 4,
   "metadata": {},
   "outputs": [
    {
     "ename": "ServerSelectionTimeoutError",
     "evalue": "localhost:27017: [Errno 61] Connection refused",
     "output_type": "error",
     "traceback": [
      "\u001b[0;31m---------------------------------------------------------------------------\u001b[0m",
      "\u001b[0;31mServerSelectionTimeoutError\u001b[0m               Traceback (most recent call last)",
      "\u001b[0;32m<ipython-input-4-c46f94440872>\u001b[0m in \u001b[0;36m<module>\u001b[0;34m()\u001b[0m\n\u001b[1;32m      1\u001b[0m \u001b[0;31m#Count of documents\u001b[0m\u001b[0;34m\u001b[0m\u001b[0;34m\u001b[0m\u001b[0m\n\u001b[0;32m----> 2\u001b[0;31m \u001b[0mdb\u001b[0m\u001b[0;34m.\u001b[0m\u001b[0mparis\u001b[0m\u001b[0;34m.\u001b[0m\u001b[0mfind\u001b[0m\u001b[0;34m(\u001b[0m\u001b[0;34m)\u001b[0m\u001b[0;34m.\u001b[0m\u001b[0mcount\u001b[0m\u001b[0;34m(\u001b[0m\u001b[0;34m)\u001b[0m\u001b[0;34m\u001b[0m\u001b[0m\n\u001b[0m",
      "\u001b[0;32m/Users/sarahhosking/anaconda/envs/DAND/lib/python2.7/site-packages/pymongo/cursor.pyc\u001b[0m in \u001b[0;36mcount\u001b[0;34m(self, with_limit_and_skip)\u001b[0m\n\u001b[1;32m    706\u001b[0m                 \u001b[0mcmd\u001b[0m\u001b[0;34m[\u001b[0m\u001b[0;34m\"skip\"\u001b[0m\u001b[0;34m]\u001b[0m \u001b[0;34m=\u001b[0m \u001b[0mself\u001b[0m\u001b[0;34m.\u001b[0m\u001b[0m__skip\u001b[0m\u001b[0;34m\u001b[0m\u001b[0m\n\u001b[1;32m    707\u001b[0m \u001b[0;34m\u001b[0m\u001b[0m\n\u001b[0;32m--> 708\u001b[0;31m         \u001b[0;32mreturn\u001b[0m \u001b[0mself\u001b[0m\u001b[0;34m.\u001b[0m\u001b[0m__collection\u001b[0m\u001b[0;34m.\u001b[0m\u001b[0m_count\u001b[0m\u001b[0;34m(\u001b[0m\u001b[0mcmd\u001b[0m\u001b[0;34m)\u001b[0m\u001b[0;34m\u001b[0m\u001b[0m\n\u001b[0m\u001b[1;32m    709\u001b[0m \u001b[0;34m\u001b[0m\u001b[0m\n\u001b[1;32m    710\u001b[0m     \u001b[0;32mdef\u001b[0m \u001b[0mdistinct\u001b[0m\u001b[0;34m(\u001b[0m\u001b[0mself\u001b[0m\u001b[0;34m,\u001b[0m \u001b[0mkey\u001b[0m\u001b[0;34m)\u001b[0m\u001b[0;34m:\u001b[0m\u001b[0;34m\u001b[0m\u001b[0m\n",
      "\u001b[0;32m/Users/sarahhosking/anaconda/envs/DAND/lib/python2.7/site-packages/pymongo/collection.pyc\u001b[0m in \u001b[0;36m_count\u001b[0;34m(self, cmd)\u001b[0m\n\u001b[1;32m   1200\u001b[0m     \u001b[0;32mdef\u001b[0m \u001b[0m_count\u001b[0m\u001b[0;34m(\u001b[0m\u001b[0mself\u001b[0m\u001b[0;34m,\u001b[0m \u001b[0mcmd\u001b[0m\u001b[0;34m)\u001b[0m\u001b[0;34m:\u001b[0m\u001b[0;34m\u001b[0m\u001b[0m\n\u001b[1;32m   1201\u001b[0m         \u001b[0;34m\"\"\"Internal count helper.\"\"\"\u001b[0m\u001b[0;34m\u001b[0m\u001b[0m\n\u001b[0;32m-> 1202\u001b[0;31m         \u001b[0;32mwith\u001b[0m \u001b[0mself\u001b[0m\u001b[0;34m.\u001b[0m\u001b[0m_socket_for_reads\u001b[0m\u001b[0;34m(\u001b[0m\u001b[0;34m)\u001b[0m \u001b[0;32mas\u001b[0m \u001b[0;34m(\u001b[0m\u001b[0msock_info\u001b[0m\u001b[0;34m,\u001b[0m \u001b[0mslave_ok\u001b[0m\u001b[0;34m)\u001b[0m\u001b[0;34m:\u001b[0m\u001b[0;34m\u001b[0m\u001b[0m\n\u001b[0m\u001b[1;32m   1203\u001b[0m             res = self._command(\n\u001b[1;32m   1204\u001b[0m                 \u001b[0msock_info\u001b[0m\u001b[0;34m,\u001b[0m \u001b[0mcmd\u001b[0m\u001b[0;34m,\u001b[0m \u001b[0mslave_ok\u001b[0m\u001b[0;34m,\u001b[0m\u001b[0;34m\u001b[0m\u001b[0m\n",
      "\u001b[0;32m/Users/sarahhosking/anaconda/envs/DAND/lib/python2.7/contextlib.pyc\u001b[0m in \u001b[0;36m__enter__\u001b[0;34m(self)\u001b[0m\n\u001b[1;32m     15\u001b[0m     \u001b[0;32mdef\u001b[0m \u001b[0m__enter__\u001b[0m\u001b[0;34m(\u001b[0m\u001b[0mself\u001b[0m\u001b[0;34m)\u001b[0m\u001b[0;34m:\u001b[0m\u001b[0;34m\u001b[0m\u001b[0m\n\u001b[1;32m     16\u001b[0m         \u001b[0;32mtry\u001b[0m\u001b[0;34m:\u001b[0m\u001b[0;34m\u001b[0m\u001b[0m\n\u001b[0;32m---> 17\u001b[0;31m             \u001b[0;32mreturn\u001b[0m \u001b[0mself\u001b[0m\u001b[0;34m.\u001b[0m\u001b[0mgen\u001b[0m\u001b[0;34m.\u001b[0m\u001b[0mnext\u001b[0m\u001b[0;34m(\u001b[0m\u001b[0;34m)\u001b[0m\u001b[0;34m\u001b[0m\u001b[0m\n\u001b[0m\u001b[1;32m     18\u001b[0m         \u001b[0;32mexcept\u001b[0m \u001b[0mStopIteration\u001b[0m\u001b[0;34m:\u001b[0m\u001b[0;34m\u001b[0m\u001b[0m\n\u001b[1;32m     19\u001b[0m             \u001b[0;32mraise\u001b[0m \u001b[0mRuntimeError\u001b[0m\u001b[0;34m(\u001b[0m\u001b[0;34m\"generator didn't yield\"\u001b[0m\u001b[0;34m)\u001b[0m\u001b[0;34m\u001b[0m\u001b[0m\n",
      "\u001b[0;32m/Users/sarahhosking/anaconda/envs/DAND/lib/python2.7/site-packages/pymongo/mongo_client.pyc\u001b[0m in \u001b[0;36m_socket_for_reads\u001b[0;34m(self, read_preference)\u001b[0m\n\u001b[1;32m    796\u001b[0m         \u001b[0mtopology\u001b[0m \u001b[0;34m=\u001b[0m \u001b[0mself\u001b[0m\u001b[0;34m.\u001b[0m\u001b[0m_get_topology\u001b[0m\u001b[0;34m(\u001b[0m\u001b[0;34m)\u001b[0m\u001b[0;34m\u001b[0m\u001b[0m\n\u001b[1;32m    797\u001b[0m         \u001b[0msingle\u001b[0m \u001b[0;34m=\u001b[0m \u001b[0mtopology\u001b[0m\u001b[0;34m.\u001b[0m\u001b[0mdescription\u001b[0m\u001b[0;34m.\u001b[0m\u001b[0mtopology_type\u001b[0m \u001b[0;34m==\u001b[0m \u001b[0mTOPOLOGY_TYPE\u001b[0m\u001b[0;34m.\u001b[0m\u001b[0mSingle\u001b[0m\u001b[0;34m\u001b[0m\u001b[0m\n\u001b[0;32m--> 798\u001b[0;31m         \u001b[0;32mwith\u001b[0m \u001b[0mself\u001b[0m\u001b[0;34m.\u001b[0m\u001b[0m_get_socket\u001b[0m\u001b[0;34m(\u001b[0m\u001b[0mread_preference\u001b[0m\u001b[0;34m)\u001b[0m \u001b[0;32mas\u001b[0m \u001b[0msock_info\u001b[0m\u001b[0;34m:\u001b[0m\u001b[0;34m\u001b[0m\u001b[0m\n\u001b[0m\u001b[1;32m    799\u001b[0m             slave_ok = (single and not sock_info.is_mongos) or (\n\u001b[1;32m    800\u001b[0m                 preference != ReadPreference.PRIMARY)\n",
      "\u001b[0;32m/Users/sarahhosking/anaconda/envs/DAND/lib/python2.7/contextlib.pyc\u001b[0m in \u001b[0;36m__enter__\u001b[0;34m(self)\u001b[0m\n\u001b[1;32m     15\u001b[0m     \u001b[0;32mdef\u001b[0m \u001b[0m__enter__\u001b[0m\u001b[0;34m(\u001b[0m\u001b[0mself\u001b[0m\u001b[0;34m)\u001b[0m\u001b[0;34m:\u001b[0m\u001b[0;34m\u001b[0m\u001b[0m\n\u001b[1;32m     16\u001b[0m         \u001b[0;32mtry\u001b[0m\u001b[0;34m:\u001b[0m\u001b[0;34m\u001b[0m\u001b[0m\n\u001b[0;32m---> 17\u001b[0;31m             \u001b[0;32mreturn\u001b[0m \u001b[0mself\u001b[0m\u001b[0;34m.\u001b[0m\u001b[0mgen\u001b[0m\u001b[0;34m.\u001b[0m\u001b[0mnext\u001b[0m\u001b[0;34m(\u001b[0m\u001b[0;34m)\u001b[0m\u001b[0;34m\u001b[0m\u001b[0m\n\u001b[0m\u001b[1;32m     18\u001b[0m         \u001b[0;32mexcept\u001b[0m \u001b[0mStopIteration\u001b[0m\u001b[0;34m:\u001b[0m\u001b[0;34m\u001b[0m\u001b[0m\n\u001b[1;32m     19\u001b[0m             \u001b[0;32mraise\u001b[0m \u001b[0mRuntimeError\u001b[0m\u001b[0;34m(\u001b[0m\u001b[0;34m\"generator didn't yield\"\u001b[0m\u001b[0;34m)\u001b[0m\u001b[0;34m\u001b[0m\u001b[0m\n",
      "\u001b[0;32m/Users/sarahhosking/anaconda/envs/DAND/lib/python2.7/site-packages/pymongo/mongo_client.pyc\u001b[0m in \u001b[0;36m_get_socket\u001b[0;34m(self, selector)\u001b[0m\n\u001b[1;32m    760\u001b[0m     \u001b[0;34m@\u001b[0m\u001b[0mcontextlib\u001b[0m\u001b[0;34m.\u001b[0m\u001b[0mcontextmanager\u001b[0m\u001b[0;34m\u001b[0m\u001b[0m\n\u001b[1;32m    761\u001b[0m     \u001b[0;32mdef\u001b[0m \u001b[0m_get_socket\u001b[0m\u001b[0;34m(\u001b[0m\u001b[0mself\u001b[0m\u001b[0;34m,\u001b[0m \u001b[0mselector\u001b[0m\u001b[0;34m)\u001b[0m\u001b[0;34m:\u001b[0m\u001b[0;34m\u001b[0m\u001b[0m\n\u001b[0;32m--> 762\u001b[0;31m         \u001b[0mserver\u001b[0m \u001b[0;34m=\u001b[0m \u001b[0mself\u001b[0m\u001b[0;34m.\u001b[0m\u001b[0m_get_topology\u001b[0m\u001b[0;34m(\u001b[0m\u001b[0;34m)\u001b[0m\u001b[0;34m.\u001b[0m\u001b[0mselect_server\u001b[0m\u001b[0;34m(\u001b[0m\u001b[0mselector\u001b[0m\u001b[0;34m)\u001b[0m\u001b[0;34m\u001b[0m\u001b[0m\n\u001b[0m\u001b[1;32m    763\u001b[0m         \u001b[0;32mtry\u001b[0m\u001b[0;34m:\u001b[0m\u001b[0;34m\u001b[0m\u001b[0m\n\u001b[1;32m    764\u001b[0m             \u001b[0;32mwith\u001b[0m \u001b[0mserver\u001b[0m\u001b[0;34m.\u001b[0m\u001b[0mget_socket\u001b[0m\u001b[0;34m(\u001b[0m\u001b[0mself\u001b[0m\u001b[0;34m.\u001b[0m\u001b[0m__all_credentials\u001b[0m\u001b[0;34m)\u001b[0m \u001b[0;32mas\u001b[0m \u001b[0msock_info\u001b[0m\u001b[0;34m:\u001b[0m\u001b[0;34m\u001b[0m\u001b[0m\n",
      "\u001b[0;32m/Users/sarahhosking/anaconda/envs/DAND/lib/python2.7/site-packages/pymongo/topology.pyc\u001b[0m in \u001b[0;36mselect_server\u001b[0;34m(self, selector, server_selection_timeout, address)\u001b[0m\n\u001b[1;32m    208\u001b[0m         return random.choice(self.select_servers(selector,\n\u001b[1;32m    209\u001b[0m                                                  \u001b[0mserver_selection_timeout\u001b[0m\u001b[0;34m,\u001b[0m\u001b[0;34m\u001b[0m\u001b[0m\n\u001b[0;32m--> 210\u001b[0;31m                                                  address))\n\u001b[0m\u001b[1;32m    211\u001b[0m \u001b[0;34m\u001b[0m\u001b[0m\n\u001b[1;32m    212\u001b[0m     def select_server_by_address(self, address,\n",
      "\u001b[0;32m/Users/sarahhosking/anaconda/envs/DAND/lib/python2.7/site-packages/pymongo/topology.pyc\u001b[0m in \u001b[0;36mselect_servers\u001b[0;34m(self, selector, server_selection_timeout, address)\u001b[0m\n\u001b[1;32m    184\u001b[0m                 \u001b[0;32mif\u001b[0m \u001b[0mserver_timeout\u001b[0m \u001b[0;34m==\u001b[0m \u001b[0;36m0\u001b[0m \u001b[0;32mor\u001b[0m \u001b[0mnow\u001b[0m \u001b[0;34m>\u001b[0m \u001b[0mend_time\u001b[0m\u001b[0;34m:\u001b[0m\u001b[0;34m\u001b[0m\u001b[0m\n\u001b[1;32m    185\u001b[0m                     raise ServerSelectionTimeoutError(\n\u001b[0;32m--> 186\u001b[0;31m                         self._error_message(selector))\n\u001b[0m\u001b[1;32m    187\u001b[0m \u001b[0;34m\u001b[0m\u001b[0m\n\u001b[1;32m    188\u001b[0m                 \u001b[0mself\u001b[0m\u001b[0;34m.\u001b[0m\u001b[0m_ensure_opened\u001b[0m\u001b[0;34m(\u001b[0m\u001b[0;34m)\u001b[0m\u001b[0;34m\u001b[0m\u001b[0m\n",
      "\u001b[0;31mServerSelectionTimeoutError\u001b[0m: localhost:27017: [Errno 61] Connection refused"
     ]
    }
   ],
   "source": [
    "#Count of documents\n",
    "db.paris.find().count()  "
   ]
  },
  {
   "cell_type": "code",
   "execution_count": 95,
   "metadata": {},
   "outputs": [
    {
     "name": "stdout",
     "output_type": "stream",
     "text": [
      "219981\n",
      "25539\n"
     ]
    }
   ],
   "source": [
    "#how many of each type?\n",
    "print db.paris.find({\"type\":\"node\"}).count()\n",
    "print db.paris.find({\"type\":\"way\"}).count()"
   ]
  },
  {
   "cell_type": "code",
   "execution_count": 93,
   "metadata": {},
   "outputs": [
    {
     "data": {
      "text/plain": [
       "702"
      ]
     },
     "execution_count": 93,
     "metadata": {},
     "output_type": "execute_result"
    }
   ],
   "source": [
    "#count of unique users\n",
    "db.paris.distinct(\"created.user\").__len__()"
   ]
  },
  {
   "cell_type": "code",
   "execution_count": 63,
   "metadata": {},
   "outputs": [
    {
     "data": {
      "text/plain": [
       "241"
      ]
     },
     "execution_count": 63,
     "metadata": {},
     "output_type": "execute_result"
    }
   ],
   "source": [
    "#count of unique data sources\n",
    "db.paris.distinct(\"source\").__len__()"
   ]
  },
  {
   "cell_type": "code",
   "execution_count": 153,
   "metadata": {},
   "outputs": [
    {
     "data": {
      "text/plain": [
       "91"
      ]
     },
     "execution_count": 153,
     "metadata": {},
     "output_type": "execute_result"
    }
   ],
   "source": [
    "#count of distinct amenities\n",
    "db.paris.distinct(\"amenity\").__len__()"
   ]
  },
  {
   "cell_type": "code",
   "execution_count": 99,
   "metadata": {},
   "outputs": [
    {
     "name": "stdout",
     "output_type": "stream",
     "text": [
      "{u'count': 244786, u'postcode': None}\n",
      "{u'count': 164, u'postcode': u'75004'}\n",
      "{u'count': 150, u'postcode': u'75006'}\n",
      "{u'count': 104, u'postcode': u'75007'}\n",
      "{u'count': 101, u'postcode': u'75005'}\n",
      "{u'count': 79, u'postcode': u'75012'}\n",
      "{u'count': 50, u'postcode': u'75011'}\n",
      "{u'count': 44, u'postcode': u'75015'}\n",
      "{u'count': 20, u'postcode': u'75014'}\n",
      "{u'count': 19, u'postcode': u'75001'}\n",
      "{u'count': 8, u'postcode': u'75003'}\n",
      "{u'count': 4, u'postcode': u'75013'}\n",
      "{u'count': 1, u'postcode': u'75140'}\n"
     ]
    }
   ],
   "source": [
    "#Count of documents by arrondissement\n",
    "results = db.paris.aggregate([ #{\"$match\" : {\"type\" : \"node\"}},\n",
    " \n",
    "                                {\"$group\" : {\"_id\" : \"$address.postcode\", \n",
    "                                             \"count\" : {\"$sum\" : 1}}},\n",
    "                                {\"$project\" : {\"_id\" : 0,\n",
    "                                               \"postcode\" : \"$_id\",\n",
    "                                               \"count\" : \"$count\"}},\n",
    "                                {\"$sort\" : {\"count\" : -1}}, \n",
    "                                \n",
    "        \n",
    "                             ])\n",
    "\n",
    "for result in results:\n",
    "    pprint.pprint(result)"
   ]
  },
  {
   "cell_type": "code",
   "execution_count": 155,
   "metadata": {},
   "outputs": [
    {
     "name": "stdout",
     "output_type": "stream",
     "text": [
      "{u'_id': None, u'count': 240404}\n",
      "{u'_id': u'restaurant', u'count': 966}\n",
      "{u'_id': u'bench', u'count': 412}\n",
      "{u'_id': u'vending_machine', u'count': 301}\n",
      "{u'_id': u'waste_basket', u'count': 300}\n",
      "{u'_id': u'cafe', u'count': 295}\n",
      "{u'_id': u'bicycle_parking', u'count': 241}\n",
      "{u'_id': u'post_box', u'count': 197}\n",
      "{u'_id': u'fast_food', u'count': 167}\n",
      "{u'_id': u'bicycle_rental', u'count': 151}\n"
     ]
    }
   ],
   "source": [
    "#Top 10 amenities\n",
    "results = db.paris.aggregate([\n",
    "                                {\"$group\" : {\"_id\" : \"$amenity\", \n",
    "                                             \"count\" : {\"$sum\" : 1}}},\n",
    "                                {\"$project\" : {\"_id\" : \"$_id\",\n",
    "                                               \"count\" : \"$count\"}},\n",
    "                                {\"$sort\" : {\"count\" : -1}}, \n",
    "                                {\"$limit\" : 10}\n",
    "        \n",
    "                             ])\n",
    "\n",
    "for result in results:\n",
    "    pprint.pprint(result)"
   ]
  },
  {
   "cell_type": "code",
   "execution_count": 152,
   "metadata": {},
   "outputs": [
    {
     "name": "stdout",
     "output_type": "stream",
     "text": [
      "{u'count': 200700, u'source': None}\n",
      "{u'count': 23609,\n",
      " u'source': u'cadastre-dgi-fr source : Direction G\\xe9n\\xe9rale des Imp\\xf4ts - Cadastre. Mise \\xe0 jour : 2010'}\n",
      "{u'count': 5775,\n",
      " u'source': u'cadastre-dgi-fr source : Direction G\\xe9n\\xe9rale des Imp\\xf4ts - Cadastre. Mise \\xe0 jour : 2011'}\n",
      "{u'count': 5215, u'source': u'opendata.paris.fr'}\n",
      "{u'count': 4520,\n",
      " u'source': u'cadastre-dgi-fr source : Direction G\\xe9n\\xe9rale des Imp\\xf4ts - Cadastre ; mise \\xe0 jour : 2010'}\n",
      "{u'count': 912, u'source': u'survey'}\n",
      "{u'count': 587,\n",
      " u'source': u'cadastre-dgi-fr source : Direction G\\xe9n\\xe9rale des Imp\\xf4ts - Cadastre ; mise \\xe0 jour : 2009'}\n",
      "{u'count': 587,\n",
      " u'source': u'cadastre-dgi-fr source : Direction G\\xe9n\\xe9rale des Imp\\xf4ts - Cadastre. Mise \\xe0 jour : 2009'}\n",
      "{u'count': 268, u'source': u'Mapillary 2015'}\n",
      "{u'count': 266, u'source': u'Bing'}\n"
     ]
    }
   ],
   "source": [
    "#Top 10 data sources\n",
    "results = db.paris.aggregate([\n",
    "                                {\"$group\" : {\"_id\" : \"$source\", \n",
    "                                             \"count\" : {\"$sum\" : 1}}},\n",
    "                                {\"$project\" : {\"_id\" : 0,\n",
    "                                                \"source\" : \"$_id\",\n",
    "                                               \"count\" : \"$count\"}},\n",
    "                                {\"$sort\" : {\"count\" : -1}}, \n",
    "                                {\"$limit\" : 10}\n",
    "        \n",
    "                             ])\n",
    "\n",
    "for result in results:\n",
    "    pprint.pprint(result)"
   ]
  },
  {
   "cell_type": "code",
   "execution_count": 164,
   "metadata": {},
   "outputs": [
    {
     "name": "stdout",
     "output_type": "stream",
     "text": [
      "{u'count': 8965, u'postal code': None}\n",
      "{u'count': 24, u'postal code': u'75006'}\n",
      "{u'count': 22, u'postal code': u'75004'}\n",
      "{u'count': 6, u'postal code': u'75001'}\n",
      "{u'count': 4, u'postal code': u'75007'}\n",
      "{u'count': 3, u'postal code': u'75005'}\n",
      "{u'count': 1, u'postal code': u'75011'}\n",
      "{u'count': 1, u'postal code': u'75015'}\n",
      "{u'count': 1, u'postal code': u'75140'}\n",
      "{u'count': 1, u'postal code': u'75012'}\n"
     ]
    }
   ],
   "source": [
    "#If cadastre is source, is there address info?\n",
    "results = db.paris.aggregate([  {\"$match\" : {\"source\" : \"cadastre-dgi-fr source : Direction Générale des Impôts - Cadastre. Mise à jour : 2010\",\n",
    "                                            \"address\" : {\"$exists\" : 1}}},\n",
    "                                {\"$group\" : {\"_id\" : \"$address.postcode\", \n",
    "                                             \"count\" : {\"$sum\" : 1}}},\n",
    "                                {\"$project\" : {\"_id\" : 0,\n",
    "                                                \"postal code\" : \"$_id\",\n",
    "                                               \"count\" : \"$count\"}},\n",
    "                                {\"$sort\" : {\"count\" : -1}},         \n",
    "                             ])\n",
    "\n",
    "for result in results:\n",
    "    pprint.pprint(result)"
   ]
  },
  {
   "cell_type": "code",
   "execution_count": 107,
   "metadata": {},
   "outputs": [
    {
     "name": "stdout",
     "output_type": "stream",
     "text": [
      "{u'count': 80927, u'user': u'Pieren'}\n",
      "{u'count': 28668, u'user': u'Mawie'}\n",
      "{u'count': 25556, u'user': u'STA'}\n",
      "{u'count': 19217, u'user': u'maouth-'}\n",
      "{u'count': 10394, u'user': u'mat'}\n",
      "{u'count': 8256, u'user': u'osmmaker'}\n",
      "{u'count': 6884, u'user': u'cquest'}\n",
      "{u'count': 6708, u'user': u'VinceBot'}\n",
      "{u'count': 5741, u'user': u'cmif4'}\n",
      "{u'count': 4144, u'user': u'dhuyp'}\n"
     ]
    }
   ],
   "source": [
    "#Top 10 created.users\n",
    "results = db.paris.aggregate([\n",
    "                                {\"$group\" : {\"_id\" : \"$created.user\", \n",
    "                                             \"count\" : {\"$sum\" : 1}}},\n",
    "                                {\"$project\" : {\"_id\" : 0,\n",
    "                                                \"user\" : \"$_id\",\n",
    "                                               \"count\" : \"$count\"}},\n",
    "                                {\"$sort\" : {\"count\" : -1}}, \n",
    "                                {\"$limit\" : 10}\n",
    "        \n",
    "                             ])\n",
    "\n",
    "for result in results:\n",
    "    pprint.pprint(result)"
   ]
  },
  {
   "cell_type": "code",
   "execution_count": 159,
   "metadata": {},
   "outputs": [
    {
     "name": "stdout",
     "output_type": "stream",
     "text": [
      "{u'count': 48, u'created_by': u'zerpou'}\n",
      "{u'count': 13, u'created_by': u'OsmIdf'}\n",
      "{u'count': 11, u'created_by': u'sidjy'}\n",
      "{u'count': 8, u'created_by': u'yxoc'}\n",
      "{u'count': 2, u'created_by': u'bot_gileri'}\n"
     ]
    }
   ],
   "source": [
    "#top 5 users who added an amenity\n",
    "results = db.paris.aggregate([\n",
    "                                {\"$match\" : {\n",
    "                                             \"amenity\" : \"car_rental\"}},\n",
    " \n",
    "                                {\"$group\" : {\"_id\" : \"$created.user\", \n",
    "                                             \"count\" : {\"$sum\" : 1}}},\n",
    "                                {\"$project\" : {\"_id\" : 0,\n",
    "                                               \"created_by\" : \"$_id\",\n",
    "                                               \"count\" : \"$count\"}},\n",
    "                                {\"$sort\" : {\"count\" : -1}}, \n",
    "                                {\"$limit\" : 5}\n",
    "                             ])\n",
    "\n",
    "for result in results:\n",
    "    pprint.pprint(result)"
   ]
  },
  {
   "cell_type": "code",
   "execution_count": 160,
   "metadata": {},
   "outputs": [
    {
     "name": "stdout",
     "output_type": "stream",
     "text": [
      "{u'amenity': u'pharmacy', u'count': 125}\n",
      "{u'amenity': u'car_rental', u'count': 48}\n",
      "{u'amenity': u'school', u'count': 34}\n",
      "{u'amenity': u'post_box', u'count': 12}\n",
      "{u'amenity': u'college', u'count': 7}\n"
     ]
    }
   ],
   "source": [
    "#Top 5 amenities added by user\n",
    "results = db.paris.aggregate([\n",
    "                                {\"$match\" : {\"created.user\" : \"zerpou\",\n",
    "                                             \"amenity\" : {\"$exists\" : 1}}},\n",
    "                                {\"$group\" : {\"_id\" : \"$amenity\", \n",
    "                                             \"count\" : {\"$sum\" : 1}}},\n",
    "                                {\"$project\" : {\"_id\" : 0,\n",
    "                                               \"amenity\" : \"$_id\",\n",
    "                                               \"count\" : \"$count\"}},\n",
    "                                {\"$sort\" : {\"count\" : -1}}, \n",
    "                                {\"$limit\" : 5}\n",
    "                             ])\n",
    "\n",
    "for result in results:\n",
    "    pprint.pprint(result)"
   ]
  },
  {
   "cell_type": "code",
   "execution_count": 151,
   "metadata": {},
   "outputs": [
    {
     "name": "stdout",
     "output_type": "stream",
     "text": [
      "{u'_id': None, u'count': 11}\n",
      "{u'_id': [48.8575368, 2.3603524], u'count': 1}\n",
      "{u'_id': [48.8445095, 2.3768246], u'count': 1}\n",
      "{u'_id': [48.8597659, 2.335896], u'count': 1}\n",
      "{u'_id': [48.840461, 2.32688], u'count': 1}\n",
      "{u'_id': [48.8450228, 2.3738335], u'count': 1}\n",
      "{u'_id': [48.841754, 2.337489], u'count': 1}\n",
      "{u'_id': [48.8425014, 2.376016], u'count': 1}\n",
      "{u'_id': [48.8488854, 2.3676323], u'count': 1}\n",
      "{u'_id': [48.8483378, 2.3594757], u'count': 1}\n",
      "{u'_id': [48.8550827, 2.343998], u'count': 1}\n",
      "{u'_id': [48.8545746, 2.3446665], u'count': 1}\n",
      "{u'_id': [48.8411112, 2.3657854], u'count': 1}\n",
      "{u'_id': [48.844579, 2.3614939], u'count': 1}\n",
      "{u'_id': [48.856421, 2.349712], u'count': 1}\n",
      "{u'_id': [48.8550316, 2.3449206], u'count': 1}\n",
      "{u'_id': [48.84995, 2.3769797], u'count': 1}\n",
      "{u'_id': [48.853842, 2.3492906], u'count': 1}\n",
      "{u'_id': [48.8541941, 2.3777992], u'count': 1}\n",
      "{u'_id': [48.8445383, 2.3775163], u'count': 1}\n",
      "{u'_id': [48.8549469, 2.3729734], u'count': 1}\n",
      "{u'_id': [48.8579636, 2.3465114], u'count': 1}\n",
      "{u'_id': [48.8544526, 2.3311094], u'count': 1}\n",
      "{u'_id': [48.852859, 2.3510623], u'count': 1}\n",
      "{u'_id': [48.8475334, 2.3382332], u'count': 1}\n",
      "{u'_id': [48.855863, 2.3465049], u'count': 1}\n",
      "{u'_id': [48.8580548, 2.3474799], u'count': 1}\n",
      "{u'_id': [48.8417906, 2.3194104], u'count': 1}\n",
      "{u'_id': [48.8520468, 2.3397933], u'count': 1}\n",
      "{u'_id': [48.8461336, 2.3606308], u'count': 1}\n",
      "{u'_id': [48.841625, 2.348554], u'count': 1}\n",
      "{u'_id': [48.8505096, 2.3274022], u'count': 1}\n",
      "{u'_id': [48.8457977, 2.318566], u'count': 1}\n",
      "{u'_id': [48.8422384, 2.3371968], u'count': 1}\n",
      "{u'_id': [48.8529756, 2.3361563], u'count': 1}\n",
      "{u'_id': [48.8455093, 2.3329557], u'count': 1}\n",
      "{u'_id': [48.8574201, 2.3243023], u'count': 1}\n",
      "{u'_id': [48.8417537, 2.3377112], u'count': 1}\n",
      "{u'_id': [48.8408847, 2.3255233], u'count': 1}\n",
      "{u'_id': [48.8477369, 2.3279061], u'count': 1}\n",
      "{u'_id': [48.8445009, 2.375388], u'count': 1}\n",
      "{u'_id': [48.840751, 2.3161284], u'count': 1}\n",
      "{u'_id': [48.8528709, 2.3486106], u'count': 1}\n",
      "{u'_id': [48.8536724, 2.3590186], u'count': 1}\n",
      "{u'_id': [48.8527591, 2.3685273], u'count': 1}\n",
      "{u'_id': [48.8472412, 2.3109555], u'count': 1}\n",
      "{u'_id': [48.85091, 2.3440225], u'count': 1}\n",
      "{u'_id': [48.8478006, 2.3440011], u'count': 1}\n",
      "{u'_id': [48.8541575, 2.3560098], u'count': 1}\n",
      "{u'_id': [48.8412568, 2.356102], u'count': 1}\n",
      "{u'_id': [48.8417539, 2.3228265], u'count': 1}\n",
      "{u'_id': [48.8403137, 2.3203018], u'count': 1}\n",
      "{u'_id': [48.8474704, 2.3718474], u'count': 1}\n",
      "{u'_id': [48.8568075, 2.3541182], u'count': 1}\n",
      "{u'_id': [48.8453226, 2.3377425], u'count': 1}\n",
      "{u'_id': [48.8461467, 2.3400524], u'count': 1}\n",
      "{u'_id': [48.853899, 2.369606], u'count': 1}\n",
      "{u'_id': [48.8513821, 2.3427739], u'count': 1}\n",
      "{u'_id': [48.843074, 2.3643198], u'count': 1}\n",
      "{u'_id': [48.8407586, 2.3208814], u'count': 1}\n",
      "{u'_id': [48.8492375, 2.3711135], u'count': 1}\n",
      "{u'_id': [48.8446716, 2.3110739], u'count': 1}\n",
      "{u'_id': [48.8552582, 2.3605246], u'count': 1}\n",
      "{u'_id': [48.8443282, 2.3605939], u'count': 1}\n",
      "{u'_id': [48.8460104, 2.366974], u'count': 1}\n",
      "{u'_id': [48.858881, 2.341776], u'count': 1}\n",
      "{u'_id': [48.8470305, 2.3545898], u'count': 1}\n",
      "{u'_id': [48.8528153, 2.334715], u'count': 1}\n",
      "{u'_id': [48.8546459, 2.3450877], u'count': 1}\n",
      "{u'_id': [48.8462262, 2.3548763], u'count': 1}\n",
      "{u'_id': [48.8582001, 2.3497997], u'count': 1}\n",
      "{u'_id': [48.8460954, 2.3766582], u'count': 1}\n",
      "{u'_id': [48.8404168, 2.3535555], u'count': 1}\n",
      "{u'_id': [48.8502113, 2.3668644], u'count': 1}\n",
      "{u'_id': [48.8570795, 2.3793482], u'count': 1}\n",
      "{u'_id': [48.8496947, 2.322962], u'count': 1}\n",
      "{u'_id': [48.8516223, 2.3251656], u'count': 1}\n",
      "{u'_id': [48.8593542, 2.3719793], u'count': 1}\n",
      "{u'_id': [48.8454362, 2.3531891], u'count': 1}\n",
      "{u'_id': [48.8477025, 2.353657], u'count': 1}\n",
      "{u'_id': [48.8452432, 2.3693333], u'count': 1}\n",
      "{u'_id': [48.8582183, 2.3633569], u'count': 1}\n",
      "{u'_id': [48.8465149, 2.3169266], u'count': 1}\n"
     ]
    }
   ],
   "source": [
    "#where ARE all these public toilets?!\n",
    "results = db.paris.aggregate([ {\"$match\" : {\"amenity\" : \"toilets\"}},\n",
    " \n",
    "                                {\"$group\" : {\"_id\" : \"$pos\", \n",
    "                                             \"count\" : {\"$sum\" : 1}}},\n",
    "                                {\"$project\" : {\"_id\" : 1,\n",
    "                                               \"name\" : \"$name\",\n",
    "                                               \"count\" : \"$count\"}},\n",
    "                             ])\n",
    "\n",
    "for result in results:\n",
    "    pprint.pprint(result)"
   ]
  },
  {
   "cell_type": "code",
   "execution_count": 48,
   "metadata": {},
   "outputs": [
    {
     "name": "stdout",
     "output_type": "stream",
     "text": [
      "{u'name': u'Camille'}\n",
      "{u'cuisine': u'french', u'name': u\"L'Europ\\xe9en\", u'phone': None}\n",
      "{u'cuisine': u'regional',\n",
      " u'name': u'Nos Anc\\xeatres Les Gaulois',\n",
      " u'phone': None}\n",
      "{u'cuisine': u'pizza', u'name': u'Pizza Momo', u'phone': u'+33 1 42 72 36 35'}\n",
      "{u'name': u'La Baleine', u'phone': u'+33 1 40 79 80 72'}\n",
      "{u'name': u'Hippopotamus'}\n",
      "{u'cuisine': u'japanese', u'name': u'Sakura'}\n",
      "{u'cuisine': u'french', u'name': u'Le Falstaff', u'phone': None}\n",
      "{u'cuisine': u'burger', u'name': u\"Hamler's\", u'phone': u'+33 1 43 29 44 91'}\n",
      "{u'cuisine': u'Am\\xe9rique_du_Sud - Argentine', u'name': u'Clasico Argentino'}\n",
      "{u'cuisine': u'mexican', u'name': u'Indiana', u'phone': None}\n",
      "{u'name': u'Ristorante Del Arte'}\n",
      "{u'cuisine': u'french', u'name': u'Chez Cald\\xe9', u'phone': None}\n"
     ]
    }
   ],
   "source": [
    "#list restaurants that have wheelchair access\n",
    "\n",
    "def find_restos(db, query,projection):\n",
    "    # For local use\n",
    "    return db.paris.find(query, projection)\n",
    "\n",
    "if __name__ == \"__main__\":\n",
    "    # For local use\n",
    "    db = get_db('osm_data')\n",
    "    query = {\"wheelchair\" : \"yes\",\n",
    "             \"amenity\" : \"restaurant\"}\n",
    "    projection = {\"_id\" : 0, \"name\" : 1, \"cuisine\" : 1, \"phone\" : 1}\n",
    "    results = find_restos(db, query, projection)\n",
    "\n",
    "    #print \"Printing first 5 results\\n\"\n",
    "    import pprint\n",
    "    for resto in results:\n",
    "        pprint.pprint(resto)"
   ]
  },
  {
   "cell_type": "code",
   "execution_count": 122,
   "metadata": {},
   "outputs": [
    {
     "name": "stdout",
     "output_type": "stream",
     "text": [
      "{u'_id': None, u'count': 853, u'wheelchair_friendly': 9}\n",
      "{u'_id': u'75004', u'count': 32, u'wheelchair_friendly': 1}\n",
      "{u'_id': u'75006', u'count': 22, u'wheelchair_friendly': 2}\n",
      "{u'_id': u'75012', u'count': 19, u'wheelchair_friendly': 0}\n",
      "{u'_id': u'75005', u'count': 15, u'wheelchair_friendly': 1}\n",
      "{u'_id': u'75011', u'count': 7, u'wheelchair_friendly': 0}\n",
      "{u'_id': u'75014', u'count': 7, u'wheelchair_friendly': 0}\n",
      "{u'_id': u'75007', u'count': 6, u'wheelchair_friendly': 0}\n",
      "{u'_id': u'75015', u'count': 2, u'wheelchair_friendly': 0}\n",
      "{u'_id': u'75003', u'count': 1, u'wheelchair_friendly': 0}\n",
      "{u'_id': u'75013', u'count': 1, u'wheelchair_friendly': 0}\n",
      "{u'_id': u'75001', u'count': 1, u'wheelchair_friendly': 0}\n"
     ]
    }
   ],
   "source": [
    "#count of restaurants, total & wheelchair-accessible, by arrondissement (postcode)\n",
    "results = db.paris.aggregate([\n",
    "                                {\"$match\" : {\"amenity\" : \"restaurant\"}},\n",
    "                                {\"$group\" : {\"_id\" : \"$address.postcode\", \n",
    "                                             \"wh_count\" : {\"$sum\": {\"$cond\": \n",
    "                                                                           [{ \"$eq\": [\"$wheelchair\",\"yes\"]},1,0 ]\n",
    "                                                                      }},\n",
    "                                             \"total_count\" : {\"$sum\" : 1}}},\n",
    "                                \n",
    "                                {\"$project\" : {\"postcode\" : \"$postcode\",\n",
    "                                               \"wheelchair_friendly\" : \"$wh_count\", \n",
    "                                               \"count\" : \"$total_count\"}},\n",
    "                                {\"$sort\" : {\"count\" : -1}}, \n",
    "        \n",
    "                             ])\n",
    "\n",
    "\n",
    "for arr in results:\n",
    "    pprint.pprint(arr)\n",
    "            "
   ]
  },
  {
   "cell_type": "code",
   "execution_count": 125,
   "metadata": {},
   "outputs": [
    {
     "name": "stdout",
     "output_type": "stream",
     "text": [
      "{u'_id': None, u'count': 219282}\n",
      "{u'_id': u'75004', u'count': 153}\n",
      "{u'_id': u'75006', u'count': 146}\n",
      "{u'_id': u'75007', u'count': 99}\n",
      "{u'_id': u'75005', u'count': 89}\n",
      "{u'_id': u'75012', u'count': 75}\n",
      "{u'_id': u'75011', u'count': 47}\n",
      "{u'_id': u'75015', u'count': 43}\n",
      "{u'_id': u'75014', u'count': 20}\n",
      "{u'_id': u'75001', u'count': 17}\n",
      "{u'_id': u'75003', u'count': 6}\n",
      "{u'_id': u'75013', u'count': 3}\n",
      "{u'_id': u'75140', u'count': 1}\n"
     ]
    }
   ],
   "source": [
    "#nodes by arrondissement\n",
    "results = db.paris.aggregate([\n",
    "                                {\"$match\" : {\"type\" : \"node\"}},\n",
    "                                {\"$group\" : {\"_id\" : \"$address.postcode\",\n",
    "                                             \"total_nodes\" : {\"$sum\" : 1}}},\n",
    "                                \n",
    "                                {\"$project\" : {\"postcode\" : \"$postcode\", \n",
    "                                               \"count\" : \"$total_nodes\"}},\n",
    "                                {\"$sort\" : {\"count\" : -1}}, \n",
    "        \n",
    "                             ])\n",
    "\n",
    "\n",
    "for arr in results:\n",
    "    pprint.pprint(arr)"
   ]
  },
  {
   "cell_type": "code",
   "execution_count": null,
   "metadata": {
    "collapsed": true
   },
   "outputs": [],
   "source": []
  },
  {
   "cell_type": "code",
   "execution_count": null,
   "metadata": {
    "collapsed": true
   },
   "outputs": [],
   "source": []
  }
 ],
 "metadata": {
  "anaconda-cloud": {},
  "kernelspec": {
   "display_name": "Python [default]",
   "language": "python",
   "name": "python2"
  },
  "language_info": {
   "codemirror_mode": {
    "name": "ipython",
    "version": 2
   },
   "file_extension": ".py",
   "mimetype": "text/x-python",
   "name": "python",
   "nbconvert_exporter": "python",
   "pygments_lexer": "ipython2",
   "version": "2.7.12"
  },
  "toc": {
   "base_numbering": 1,
   "nav_menu": {},
   "number_sections": true,
   "sideBar": true,
   "skip_h1_title": false,
   "title_cell": "",
   "title_sidebar": "Contents",
   "toc_cell": false,
   "toc_position": {},
   "toc_section_display": true,
   "toc_window_display": false
  }
 },
 "nbformat": 4,
 "nbformat_minor": 1
}
